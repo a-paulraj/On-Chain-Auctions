{
  "nbformat": 4,
  "nbformat_minor": 0,
  "metadata": {
    "colab": {
      "provenance": []
    },
    "kernelspec": {
      "name": "python3",
      "display_name": "Python 3"
    },
    "language_info": {
      "name": "python"
    }
  },
  "cells": [
    {
      "cell_type": "markdown",
      "source": [
        "# Running Auctions On-Chain"
      ],
      "metadata": {
        "id": "oqK6fVvvGaRV"
      }
    },
    {
      "cell_type": "markdown",
      "source": [
        "### Auction Contract\n",
        "Below is our implementation of a first price auction, which helps facilitate auctioning off an NFT. The auctioneer creates an auction by making an instance of the firstPriceAuction contract, inputting the auction duration, and information about the NFT being auctioned off. During the auction duration, bidders can call the bid() function, which stores their bids. The pay() function is callable after the auction has ended, and conducts the transaction between the auctioneer and the winner.\n",
        "\n",
        "```\n",
        "// SPDX-License-Identifier: MIT\n",
        "pragma solidity ^0.8.0;\n",
        "import \"@openzeppelin/contracts/token/ERC721/IERC721.sol\";\n",
        "\n",
        "contract firstPriceAuction {\n",
        "    address payable public auctionOwner;\n",
        "    uint public auctionEndTime;\n",
        "    uint public highestBid; // should this and below be changed to something not public? idk\n",
        "    address payable public highestBidder;\n",
        "    bool public hasPaid; // default value is false\n",
        "    IERC721 public nft;\n",
        "    uint public nftId;\n",
        "\n",
        "    //mapping(address => uint) public bids;\n",
        "    mapping(address => bool) public hasBid; //might not need this, gas prices incentivize not spamming too hard\n",
        "\n",
        "    constructor(uint biddingTime, address thenft, uint thenftid) {\n",
        "        // need to verify that msg.sender owns thenft\n",
        "        // make sure nftid and nft check out\n",
        "        require(IERC721(thenft).ownerOf(thenftid) == msg.sender, \"Auctioneer does not own NFT\");\n",
        "        auctionOwner = payable(msg.sender);\n",
        "        auctionEndTime = block.timestamp + biddingTime;\n",
        "        nft = IERC721(thenft);\n",
        "        nftId = thenftid;\n",
        "    }\n",
        "\n",
        "    function bid(uint thebid) public {\n",
        "        require(block.timestamp <= auctionEndTime, \"Auction has ended\");\n",
        "        require(thebid > 0, \"Only Positive Bids Allowed\");\n",
        "        require(!hasBid[msg.sender], \"Already Bid\");\n",
        "        hasBid[msg.sender] = true;\n",
        "        if (thebid > highestBid) {\n",
        "            highestBid = thebid;\n",
        "            highestBidder = payable(msg.sender);\n",
        "        }\n",
        "    }\n",
        "\n",
        "    function pay() public payable {\n",
        "        require(block.timestamp >= auctionEndTime, \"Auction has not ended yet\");\n",
        "        require(msg.sender == highestBidder, \"You are not the highest bidder\");\n",
        "        require(msg.value == highestBid, \"Insufficient Eth Transferred\");\n",
        "        require(!hasPaid, \"Payment already made\");\n",
        "        hasPaid = true;\n",
        "        auctionOwner.transfer(highestBid);\n",
        "        nft.safeTransferFrom(auctionOwner, msg.sender, nftId);\n",
        "    }\n",
        "}\n",
        "```\n",
        "\n",
        "NOTE: this contact was never deployed to the test net for testing due to high gas fees (we tested using Remix VM)"
      ],
      "metadata": {
        "id": "Rehj_GD6audb"
      }
    },
    {
      "cell_type": "markdown",
      "source": [
        "### Instructions for Testing\n",
        "Auctioneer (Class Instructor):\n",
        "\n",
        "0. (Optional) Deploy the NFT contract in BasicNFT.sol, then call mintNFT(). The corresponding ID of the minted NFT starts at 0.\n",
        "1.   Deploy the above first price auction contract with bidding time (in seconds), the NFT address, and the NFT ID. \n",
        "2. Ensure that the auction contract has permissions to transfer the NFT. If using BasicNFT from step 0, call setApprovalForAll passing in the address of the auction contract, and the boolean True.\n",
        "3.   Once the auction is done and the winning bidder has called pay(), check MetaMask to see the funds update. Also verify that you are no longer the owner of the NFT \n",
        "\n",
        "Bidders (Students):\n",
        "\n",
        "1. Once the auction is up and running, call the bid() function, passing in the amount in wei you want to bid on the NFT.\n",
        "2. Once the auction is over, call the pay() function, passing in the amount you bid through msg.value. If you are the winning bidder, the transaction will go through (verify with MetaMask, and call ownerOf() on the NFT). \n",
        "\n"
      ],
      "metadata": {
        "id": "6BBXEmu_ehyp"
      }
    },
    {
      "cell_type": "markdown",
      "source": [
        "### Other Auction Formats\n",
        "\n",
        "Feel free to experiment with other types of auction formats (https://github.com/a-paulraj/On-Chain-Auctions), including the second price auction, descending auction, and a sealed bid auction (same as first price, but uses keccak256 hash function to seal bids, and has bidders call a reveal function to validate their bids once the auction is done).\n"
      ],
      "metadata": {
        "id": "0PhpX1rZfVfR"
      }
    }
  ]
}